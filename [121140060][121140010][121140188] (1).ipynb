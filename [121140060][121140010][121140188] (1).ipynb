{
  "nbformat": 4,
  "nbformat_minor": 0,
  "metadata": {
    "colab": {
      "provenance": []
    },
    "kernelspec": {
      "name": "python3",
      "display_name": "Python 3"
    },
    "language_info": {
      "name": "python"
    }
  },
  "cells": [
    {
      "cell_type": "markdown",
      "source": [
        "**CSP Local Search**"
      ],
      "metadata": {
        "id": "EJZ_dmMlQ9JF"
      }
    },
    {
      "cell_type": "markdown",
      "source": [
        "**Anggota Kelompok:** <br>\n",
        "Giovanni Lucy (121140060) <br>\n",
        "Fransiskus Xaverius Gunawan (121140010) <br>\n",
        "Ken Annissa (121140188)"
      ],
      "metadata": {
        "id": "xV9qonrdRIN9"
      }
    },
    {
      "cell_type": "markdown",
      "source": [
        "**LOCAL SEARCH**"
      ],
      "metadata": {
        "id": "BRt4RCuRRR-U"
      }
    },
    {
      "cell_type": "markdown",
      "source": [
        "Local Search adalah algoritma pencarian lokal yang dimulai dengan menghasilkan solusi awal dan kemudian melakukan iterasi dari solusi saat ini ke solusi kandidat lainnya dalam ruang tetangga dari solusi kandidat tersebut, dengan menggantikan solusi aktual dengan yang lebih baik yang ditemukan.\n",
        "\n"
      ],
      "metadata": {
        "id": "dRYLas_YcBxP"
      }
    },
    {
      "cell_type": "markdown",
      "source": [
        "**STUDI KASUS LOCAL SEARCH**"
      ],
      "metadata": {
        "id": "_ek1RMzSfVzF"
      }
    },
    {
      "cell_type": "markdown",
      "source": [
        " Menyusun jadwal untuk acara besar di kampus yang terdiri dari beberapa kegiatan: seminar, workshop, pameran, dan pertunjukan. Setiap kegiatan memiliki waktu yang diinginkan, persyaratan ruangan, dan pertimbangan lain yang harus dipenuhi.\n",
        "\n",
        " Kendala:\n",
        "\n",
        "\n",
        "*   Keterbatasan ruang dan waktu.\n",
        "*    Beberapa kegiatan harus dijadwalkan secara bersamaan atau berturut-turut, sementara yang lain tidak boleh berlangsung bersamaan.\n",
        "*   Beberapa kegiatan memiliki prioritas tertentu dan preferensi waktu tertentu (misalnya, seminar besar lebih baik dilaksanakan pada waktu sore).\n",
        "\n",
        "Pertimbangan:\n",
        "\n",
        "\n",
        "*   Seminar besar harus memiliki ruang yang dapat menampung banyak orang.\n",
        "*   Workshop dan pameran tidak boleh berlangsung di ruang yang sama secara bersamaan.\n",
        "\n",
        "\n",
        "\n",
        "\n",
        "\n",
        "\n"
      ],
      "metadata": {
        "id": "sQmFF76dfdQ1"
      }
    },
    {
      "cell_type": "code",
      "source": [
        "from constraint import Problem, AllDifferentConstraint\n",
        "\n",
        "# Daftar kegiatan dan domain waktu\n",
        "kegiatan = ['Seminar', 'Workshop', 'Pameran', 'Pertunjukan']\n",
        "domain_waktu = {\n",
        "    'Seminar': [(9, 12), (14, 17)],\n",
        "    'Workshop': [(10, 13), (15, 18)],\n",
        "    'Pameran': [(11, 14), (16, 19)],\n",
        "    'Pertunjukan': [(18, 21)],\n",
        "}\n",
        "\n",
        "# Inisialisasi CSP\n",
        "problem = Problem()\n",
        "\n",
        "# Tambahkan variabel untuk setiap kegiatan dengan domain waktu yang sesuai\n",
        "for k in kegiatan:\n",
        "    problem.addVariable(k, domain_waktu[k])\n",
        "\n",
        "# Tambahkan kendala untuk memastikan kegiatan berbeda waktu dan ruang\n",
        "for k1 in kegiatan:\n",
        "    for k2 in kegiatan:\n",
        "        if k1 != k2:\n",
        "            problem.addConstraint(AllDifferentConstraint(), (k1, k2))\n"
      ],
      "metadata": {
        "id": "XcqTfoxxuclW"
      },
      "execution_count": null,
      "outputs": []
    },
    {
      "cell_type": "code",
      "source": [
        "# Fungsi evaluasi sederhana\n",
        "def evaluasi(jadwal):\n",
        "    pelanggaran = 0\n",
        "    for kegiatan in jadwal:\n",
        "        for waktu in jadwal[kegiatan]:\n",
        "            for k, v in jadwal.items():\n",
        "                if k != kegiatan and waktu in v:\n",
        "                    pelanggaran += 1\n",
        "    return pelanggaran\n"
      ],
      "metadata": {
        "id": "woJet7aquiBJ"
      },
      "execution_count": null,
      "outputs": []
    },
    {
      "cell_type": "code",
      "source": [
        "# Definisikan algoritma Hill Climbing\n",
        "def hill_climbing(iterasi_max):\n",
        "    solusi = problem.getSolution()\n",
        "    nilai = evaluasi(solusi)\n",
        "\n",
        "    for _ in range(iterasi_max):\n",
        "        jadwal_baru = problem.getSolution()\n",
        "        nilai_baru = evaluasi(jadwal_baru)\n",
        "\n",
        "        if nilai_baru < nilai:\n",
        "            solusi = jadwal_baru\n",
        "            nilai = nilai_baru\n",
        "\n",
        "    return solusi\n"
      ],
      "metadata": {
        "id": "SA_ItC6uuk9a"
      },
      "execution_count": null,
      "outputs": []
    },
    {
      "cell_type": "code",
      "source": [
        "# Jalankan algoritma dengan 1000 iterasi\n",
        "solusi_terbaik = hill_climbing(1000)\n",
        "print(\"Solusi Terbaik:\")\n",
        "print(solusi_terbaik)\n",
        "print(\"Nilai Evaluasi:\")\n",
        "print(evaluasi(solusi_terbaik))\n"
      ],
      "metadata": {
        "id": "5cyGlTjEunte"
      },
      "execution_count": null,
      "outputs": []
    },
    {
      "cell_type": "markdown",
      "source": [
        "Berdasarkan ouput dari program diatas, didapatkan\n",
        "\n",
        "A) Solusi terbaik: <br>\n",
        "'Pertunjukan' dijadwalkan pada waktu (18, 21). <br>\n",
        "'Pameran' dijadwalkan pada waktu (16, 19). <br>\n",
        "'Seminar' dijadwalkan pada waktu (14, 17). <br>\n",
        "'Workshop' dijadwalkan pada waktu (15, 18).\n",
        "\n",
        "B) Nilai Evaluasi adalah 2. Artinya, terdapat dua kejadian di mana kegiatan-kegiatan yang berbeda terjadi pada waktu yang sama atau tumpang tindih."
      ],
      "metadata": {
        "id": "E_t2UdJ-3SM9"
      }
    }
  ]
}